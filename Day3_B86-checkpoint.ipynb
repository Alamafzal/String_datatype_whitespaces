{
 "cells": [
  {
   "cell_type": "code",
   "execution_count": 22,
   "id": "6d2659aa-ce9e-440d-89a5-f4bea8687928",
   "metadata": {},
   "outputs": [],
   "source": [
    "first_name =\"amir\""
   ]
  },
  {
   "cell_type": "code",
   "execution_count": 25,
   "id": "7efed4f4-1ed8-44db-bc2d-a98fd1d80c6f",
   "metadata": {},
   "outputs": [],
   "source": [
    "last_name ='khan'"
   ]
  },
  {
   "cell_type": "code",
   "execution_count": 38,
   "id": "1f47a225-957e-44d3-aacd-f6c804f41e18",
   "metadata": {},
   "outputs": [],
   "source": [
    "full_name= f\" {first_name} {last_name} \""
   ]
  },
  {
   "cell_type": "code",
   "execution_count": 39,
   "id": "ba6e25db-9554-4412-a1ee-01550ea31fff",
   "metadata": {},
   "outputs": [
    {
     "name": "stdout",
     "output_type": "stream",
     "text": [
      " amir khan \n"
     ]
    }
   ],
   "source": [
    "print(full_name)"
   ]
  },
  {
   "cell_type": "code",
   "execution_count": null,
   "id": "ab2cddd4-efe4-472d-8b54-3252272fe376",
   "metadata": {},
   "outputs": [],
   "source": []
  },
  {
   "cell_type": "code",
   "execution_count": 40,
   "id": "b8fc254c-6975-498e-9a9d-b55f3d4d84c4",
   "metadata": {},
   "outputs": [
    {
     "name": "stdout",
     "output_type": "stream",
     "text": [
      " Amir Khan \n"
     ]
    }
   ],
   "source": [
    "print(full_name.title())"
   ]
  },
  {
   "cell_type": "code",
   "execution_count": null,
   "id": "456a4f91-3c76-480e-b81e-f7a6badfdcaa",
   "metadata": {},
   "outputs": [],
   "source": []
  },
  {
   "cell_type": "code",
   "execution_count": 42,
   "id": "2b78c7d1-1135-42cc-9f73-4cd7278181d0",
   "metadata": {},
   "outputs": [],
   "source": [
    "message=f\"keep up the good work{full_name.title()}\""
   ]
  },
  {
   "cell_type": "code",
   "execution_count": 43,
   "id": "c960f6fb-c376-43eb-b3a3-0ec78d292777",
   "metadata": {},
   "outputs": [
    {
     "name": "stdout",
     "output_type": "stream",
     "text": [
      "keep up the good work Amir Khan \n"
     ]
    }
   ],
   "source": [
    "print(message)"
   ]
  },
  {
   "cell_type": "code",
   "execution_count": null,
   "id": "381b3ca3-9f5c-4311-9ad7-a74750a1f494",
   "metadata": {},
   "outputs": [],
   "source": []
  },
  {
   "cell_type": "code",
   "execution_count": 51,
   "id": "75e2fcde-7872-4ab7-9b18-ba83d4a65bb9",
   "metadata": {},
   "outputs": [
    {
     "name": "stdout",
     "output_type": "stream",
     "text": [
      "favourite_programming_language: pythonjavac++swiftcobalpascal\n"
     ]
    }
   ],
   "source": [
    "print('favourite_programming_language: pythonjavac++swiftcobalpascal')"
   ]
  },
  {
   "cell_type": "code",
   "execution_count": 53,
   "id": "8b457407-b10e-46d6-a84d-3552745dbaad",
   "metadata": {},
   "outputs": [
    {
     "name": "stdout",
     "output_type": "stream",
     "text": [
      "favourite_programming_language:\n",
      "python\n",
      "java\n",
      "c++\n",
      "swift\n",
      "cobal\n",
      "pascal\n"
     ]
    }
   ],
   "source": [
    "print('favourite_programming_language:\\npython\\njava\\nc++\\nswift\\ncobal\\npascal')"
   ]
  },
  {
   "cell_type": "code",
   "execution_count": 55,
   "id": "601833dc-7dbc-4155-96b7-00e409f396aa",
   "metadata": {},
   "outputs": [
    {
     "name": "stdout",
     "output_type": "stream",
     "text": [
      "favourite_programming_language:\n",
      "\tpython\n",
      "\tjava\n",
      "\tc++\n",
      "\tswift\n",
      "\tcobal\n",
      "\tpascal\n"
     ]
    }
   ],
   "source": [
    "print('favourite_programming_language:\\n\\tpython\\n\\tjava\\n\\tc++\\n\\tswift\\n\\tcobal\\n\\tpascal')"
   ]
  },
  {
   "cell_type": "code",
   "execution_count": 56,
   "id": "4a979231-b38c-4198-a263-5d780782946a",
   "metadata": {},
   "outputs": [
    {
     "name": "stdout",
     "output_type": "stream",
     "text": [
      "The Zen of Python, by Tim Peters\n",
      "\n",
      "Beautiful is better than ugly.\n",
      "Explicit is better than implicit.\n",
      "Simple is better than complex.\n",
      "Complex is better than complicated.\n",
      "Flat is better than nested.\n",
      "Sparse is better than dense.\n",
      "Readability counts.\n",
      "Special cases aren't special enough to break the rules.\n",
      "Although practicality beats purity.\n",
      "Errors should never pass silently.\n",
      "Unless explicitly silenced.\n",
      "In the face of ambiguity, refuse the temptation to guess.\n",
      "There should be one-- and preferably only one --obvious way to do it.\n",
      "Although that way may not be obvious at first unless you're Dutch.\n",
      "Now is better than never.\n",
      "Although never is often better than *right* now.\n",
      "If the implementation is hard to explain, it's a bad idea.\n",
      "If the implementation is easy to explain, it may be a good idea.\n",
      "Namespaces are one honking great idea -- let's do more of those!\n"
     ]
    }
   ],
   "source": [
    "import this"
   ]
  },
  {
   "cell_type": "code",
   "execution_count": 57,
   "id": "2a2c9da5-1ede-4f63-94cb-874666a6932b",
   "metadata": {},
   "outputs": [],
   "source": [
    "# removing whitespaces from the string"
   ]
  },
  {
   "cell_type": "code",
   "execution_count": 60,
   "id": "3f23f06c-5469-4327-95f3-69a8005e259d",
   "metadata": {},
   "outputs": [],
   "source": [
    "name=' python'"
   ]
  },
  {
   "cell_type": "code",
   "execution_count": 61,
   "id": "4bed5210-7df4-4b83-9099-2252f7aa198d",
   "metadata": {},
   "outputs": [
    {
     "name": "stdout",
     "output_type": "stream",
     "text": [
      " python\n"
     ]
    }
   ],
   "source": [
    "print(name)"
   ]
  },
  {
   "cell_type": "code",
   "execution_count": 62,
   "id": "8e2a31b3-d840-492e-bbe9-bece302024f7",
   "metadata": {},
   "outputs": [],
   "source": [
    "name2='python '"
   ]
  },
  {
   "cell_type": "code",
   "execution_count": 63,
   "id": "9fde027c-5d81-4ca8-8840-dd0f9c3f76e3",
   "metadata": {},
   "outputs": [
    {
     "name": "stdout",
     "output_type": "stream",
     "text": [
      "python \n"
     ]
    }
   ],
   "source": [
    "print(name2)"
   ]
  },
  {
   "cell_type": "code",
   "execution_count": 64,
   "id": "f6f7aca4-89ea-4dad-9cba-d9d18d4175e3",
   "metadata": {},
   "outputs": [
    {
     "data": {
      "text/plain": [
       "'python'"
      ]
     },
     "execution_count": 64,
     "metadata": {},
     "output_type": "execute_result"
    }
   ],
   "source": [
    "name.lstrip()"
   ]
  },
  {
   "cell_type": "code",
   "execution_count": 65,
   "id": "6071527d-7c9f-4d0a-a8dc-978198ebc8cc",
   "metadata": {},
   "outputs": [
    {
     "data": {
      "text/plain": [
       "'python'"
      ]
     },
     "execution_count": 65,
     "metadata": {},
     "output_type": "execute_result"
    }
   ],
   "source": [
    "name2.rstrip()"
   ]
  },
  {
   "cell_type": "code",
   "execution_count": 66,
   "id": "5aa596fa-8461-4163-a4e8-5b8d38b523ef",
   "metadata": {},
   "outputs": [],
   "source": [
    "name3=' python '"
   ]
  },
  {
   "cell_type": "code",
   "execution_count": 67,
   "id": "3ee02dcc-fc65-4dfb-87fe-c0c1a4509ccd",
   "metadata": {},
   "outputs": [
    {
     "name": "stdout",
     "output_type": "stream",
     "text": [
      " python \n"
     ]
    }
   ],
   "source": [
    "print(name3)"
   ]
  },
  {
   "cell_type": "code",
   "execution_count": 68,
   "id": "7d8f9908-40f7-4193-b638-9f6b781c0064",
   "metadata": {},
   "outputs": [
    {
     "data": {
      "text/plain": [
       "'python'"
      ]
     },
     "execution_count": 68,
     "metadata": {},
     "output_type": "execute_result"
    }
   ],
   "source": [
    "name3.strip()"
   ]
  },
  {
   "cell_type": "code",
   "execution_count": null,
   "id": "4c13fbb7-2321-4f80-9729-7faccdad629a",
   "metadata": {},
   "outputs": [],
   "source": []
  },
  {
   "cell_type": "code",
   "execution_count": null,
   "id": "92368955-50ce-4cb3-8009-d83bc159d7a5",
   "metadata": {},
   "outputs": [],
   "source": []
  }
 ],
 "metadata": {
  "kernelspec": {
   "display_name": "Python 3 (ipykernel)",
   "language": "python",
   "name": "python3"
  },
  "language_info": {
   "codemirror_mode": {
    "name": "ipython",
    "version": 3
   },
   "file_extension": ".py",
   "mimetype": "text/x-python",
   "name": "python",
   "nbconvert_exporter": "python",
   "pygments_lexer": "ipython3",
   "version": "3.11.7"
  }
 },
 "nbformat": 4,
 "nbformat_minor": 5
}
